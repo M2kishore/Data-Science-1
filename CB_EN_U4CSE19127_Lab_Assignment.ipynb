{
  "nbformat": 4,
  "nbformat_minor": 0,
  "metadata": {
    "colab": {
      "name": "CB.EN.U4CSE19127_Lab_Assignment.ipynb",
      "provenance": [],
      "include_colab_link": true
    },
    "kernelspec": {
      "name": "python3",
      "display_name": "Python 3"
    },
    "language_info": {
      "name": "python"
    }
  },
  "cells": [
    {
      "cell_type": "markdown",
      "metadata": {
        "id": "view-in-github",
        "colab_type": "text"
      },
      "source": [
        "<a href=\"https://colab.research.google.com/github/M2kishore/Data-Science-1/blob/main/CB_EN_U4CSE19127_Lab_Assignment.ipynb\" target=\"_parent\"><img src=\"https://colab.research.google.com/assets/colab-badge.svg\" alt=\"Open In Colab\"/></a>"
      ]
    },
    {
      "cell_type": "code",
      "metadata": {
        "id": "BLFz1CMOAVA6"
      },
      "source": [
        "import numpy as np\n",
        "import scipy.stats as st"
      ],
      "execution_count": 1,
      "outputs": []
    },
    {
      "cell_type": "markdown",
      "metadata": {
        "id": "hjc1iNEQ-dfD"
      },
      "source": [
        "1. Travel Times to Work\n",
        "Based on information from the U.S. Census Bureau, the mean travel time to work\n",
        "in minutes for all workers 16 years old and older was 25.3 minutes. A large\n",
        "company with offices in several states randomly sampled 100 of its workers to\n",
        "ascertain their commuting times. The sample mean was 23.9 minutes, and the\n",
        "population standard deviation is 6.39 minutes. At the 0.01 level of significance,\n",
        "can it be concluded that the mean commuting time is less for this particular\n",
        "company?\n"
      ]
    },
    {
      "cell_type": "code",
      "metadata": {
        "id": "L392PCUJ-ZMd"
      },
      "source": [
        "#H0 : μ = 25.3 , Ha :  μ < 25.3 \n",
        "n = 100\n",
        "xbar = 23.9\n",
        "mu = 25.3\n",
        "sigma = 6.39\n",
        "alpha = 0.01"
      ],
      "execution_count": 2,
      "outputs": []
    },
    {
      "cell_type": "code",
      "metadata": {
        "colab": {
          "base_uri": "https://localhost:8080/"
        },
        "id": "FOVUW4eWAufk",
        "outputId": "77c930d1-28a5-453c-ec54-0be536840dd8"
      },
      "source": [
        "z_critical = (st.norm.ppf(alpha)) #Absolute value taken as the it's a right-tailed test and the original value will be negative\n",
        "z_critical"
      ],
      "execution_count": 3,
      "outputs": [
        {
          "output_type": "execute_result",
          "data": {
            "text/plain": [
              "-2.3263478740408408"
            ]
          },
          "metadata": {},
          "execution_count": 3
        }
      ]
    },
    {
      "cell_type": "code",
      "metadata": {
        "colab": {
          "base_uri": "https://localhost:8080/"
        },
        "id": "S1QKCHRDBBwe",
        "outputId": "224243a7-350c-4bee-9f94-fdd757b6cd42"
      },
      "source": [
        "z = (xbar-mu)/(sigma/np.sqrt(n))\n",
        "z"
      ],
      "execution_count": 4,
      "outputs": [
        {
          "output_type": "execute_result",
          "data": {
            "text/plain": [
              "-2.1909233176838843"
            ]
          },
          "metadata": {},
          "execution_count": 4
        }
      ]
    },
    {
      "cell_type": "code",
      "metadata": {
        "colab": {
          "base_uri": "https://localhost:8080/"
        },
        "id": "PKpADDTzBD8q",
        "outputId": "5408d720-3b55-41fe-99d0-676f2651ffe5"
      },
      "source": [
        "if (z > z_critical):\n",
        "    print(\"Null hypothesis cannot be rejected\")\n",
        "else:\n",
        "    print(\"Reject null hypothesis\")"
      ],
      "execution_count": 5,
      "outputs": [
        {
          "output_type": "stream",
          "name": "stdout",
          "text": [
            "Null hypothesis cannot be rejected\n"
          ]
        }
      ]
    },
    {
      "cell_type": "markdown",
      "metadata": {
        "id": "qh6gMk-H-pZB"
      },
      "source": [
        "2. Time Until Indigestion Relief\n",
        "An advertisement claims that Fasto Stomach Calm will provide relief from\n",
        "indigestion in less than 10 minutes. For a test of the claim, 35 randomly selected\n",
        "individuals were given the product; the average time until relief was 9.25 minutes.\n",
        "From past studies, the standard deviation of the population is known to be 2\n",
        "minutes. Can you,conclude that the claim is justified? Find the P‐value,and let α =0.05."
      ]
    },
    {
      "cell_type": "code",
      "metadata": {
        "id": "-884F4Bc-sV1"
      },
      "source": [
        "#H0 : μ = 9.15 , Ha :  μ < 10\n",
        "n = 35\n",
        "xbar = 9.25\n",
        "mu = 10\n",
        "sigma = 2\n",
        "alpha = 0.05"
      ],
      "execution_count": 9,
      "outputs": []
    },
    {
      "cell_type": "code",
      "metadata": {
        "colab": {
          "base_uri": "https://localhost:8080/"
        },
        "id": "RY2bfxdMKtQr",
        "outputId": "c52a7cd5-821c-4240-c642-613a99e42671"
      },
      "source": [
        "z = (xbar-mu)/(sigma/np.sqrt(n))\n",
        "z"
      ],
      "execution_count": 10,
      "outputs": [
        {
          "output_type": "execute_result",
          "data": {
            "text/plain": [
              "-2.218529918662356"
            ]
          },
          "metadata": {},
          "execution_count": 10
        }
      ]
    },
    {
      "cell_type": "code",
      "metadata": {
        "colab": {
          "base_uri": "https://localhost:8080/"
        },
        "id": "EcKJ5D4gKAVp",
        "outputId": "4bfccb0d-90df-477e-f58e-27c851c83104"
      },
      "source": [
        "p_val = (1 - st.norm.cdf(abs(z))) * 2\n",
        "p_val"
      ],
      "execution_count": 11,
      "outputs": [
        {
          "output_type": "execute_result",
          "data": {
            "text/plain": [
              "0.026518721959430724"
            ]
          },
          "metadata": {},
          "execution_count": 11
        }
      ]
    },
    {
      "cell_type": "code",
      "metadata": {
        "id": "a5xB5hGNwYE1",
        "colab": {
          "base_uri": "https://localhost:8080/"
        },
        "outputId": "0c06353d-595c-432d-c2e3-b3c4ee6fcbc5"
      },
      "source": [
        "if (p_val > alpha):\n",
        "    print(\"Null hypothesis cannot be rejected\")\n",
        "else:\n",
        "    print(\"Reject null hypothesis\")"
      ],
      "execution_count": 12,
      "outputs": [
        {
          "output_type": "stream",
          "name": "stdout",
          "text": [
            "Reject null hypothesis\n"
          ]
        }
      ]
    },
    {
      "cell_type": "markdown",
      "metadata": {
        "id": "d6MndsNm-srS"
      },
      "source": [
        "3. Trifecta Winnings\n",
        "A random sample of 1 Trifecta tickets at a local racetrack paid the following\n",
        "amounts,(in dollars and cents). Is there sufficient evidence to conclude that the\n",
        "average Trifecta winnings exceed 50? Use α = 0.10. Assume the variable is\n",
        "normally distributed. 8.90,70.20,15.00,29.10,141.00,48.60,83.00,72.70,75.30,59.20,32.40,19.00,190.10\n"
      ]
    },
    {
      "cell_type": "code",
      "metadata": {
        "id": "TQ3XoPE5-vFv"
      },
      "source": [
        "arr = [8.90,70.20,15.00,29.10,141.00,48.60,83.00,72.70,75.30,59.20,32.40,19.00,190.10]\n",
        "#H0 : μ = 65 , Ha :  μ > 50 \n",
        "n = len(arr)\n",
        "xbar = np.mean(arr)\n",
        "mu = 50\n",
        "sigma = np.std(arr)\n",
        "alpha = 0.10"
      ],
      "execution_count": 25,
      "outputs": []
    },
    {
      "cell_type": "code",
      "metadata": {
        "id": "TR61SnfpwYE5",
        "colab": {
          "base_uri": "https://localhost:8080/"
        },
        "outputId": "fe3ea7c6-1560-465e-a9ad-9a350f6a6b83"
      },
      "source": [
        "t = (xbar - mu)/(sigma / np.sqrt(n))\n",
        "t"
      ],
      "execution_count": 28,
      "outputs": [
        {
          "output_type": "execute_result",
          "data": {
            "text/plain": [
              "1.081226678856615"
            ]
          },
          "metadata": {},
          "execution_count": 28
        }
      ]
    },
    {
      "cell_type": "code",
      "metadata": {
        "colab": {
          "base_uri": "https://localhost:8080/"
        },
        "id": "eqqs8jIyOwzZ",
        "outputId": "c5bdad8d-52c5-4bd9-887a-bb5a0c2aa9b3"
      },
      "source": [
        "if (p_val > alpha):\n",
        "    print(\"Null hypothesis cannot be rejected\")\n",
        "else:\n",
        "    print(\"Reject null hypothesis\")"
      ],
      "execution_count": 29,
      "outputs": [
        {
          "output_type": "stream",
          "name": "stdout",
          "text": [
            "Null hypothesis cannot be rejected\n"
          ]
        }
      ]
    },
    {
      "cell_type": "markdown",
      "metadata": {
        "id": "7xyEcOk4-vaK"
      },
      "source": [
        "4. Whooping Crane Eggs\n",
        "Once down to about 15, the world’s only wild flock of whooping cranes now\n",
        "numbers a record 237 birds in its Texas Coastal Bend, wintering ground. The\n",
        "average whooping crane egg weighs 208 grams. A new batch of randomly selected\n",
        "eggs was recently weighed, and their weights are listed below. At α = 0.01, is there\n",
        "sufficient evidence to conclude that the weight is greater than 208 grams? Assume\n",
        "the variable is normally distributed.\n",
        "210,210.2,208.5,209,211.6,206.4,212,209.7,210.3"
      ]
    },
    {
      "cell_type": "code",
      "metadata": {
        "id": "Eb_t3G7D-xnt"
      },
      "source": [
        "arr = [210,210.2,208.5,209,211.6,206.4,212,209.7,210.3]\n",
        "#H0 : μ = 208 , Ha :  μ > 208\n",
        "n = len(arr)\n",
        "degrees_of_freedom = n-1\n",
        "xbar = np.mean(arr)\n",
        "mu = 208\n",
        "sigma = np.std(arr)\n",
        "alpha = 0.01"
      ],
      "execution_count": 36,
      "outputs": []
    },
    {
      "cell_type": "code",
      "metadata": {
        "colab": {
          "base_uri": "https://localhost:8080/"
        },
        "id": "aF2NKQp_Qkkd",
        "outputId": "33c271c1-9781-450b-8d22-c66c6e8b9b5e"
      },
      "source": [
        "t = (xbar-mu)/(sigma/np.sqrt(n))\n",
        "t"
      ],
      "execution_count": 34,
      "outputs": [
        {
          "output_type": "execute_result",
          "data": {
            "text/plain": [
              "1.081226678856615"
            ]
          },
          "metadata": {},
          "execution_count": 34
        }
      ]
    },
    {
      "cell_type": "code",
      "metadata": {
        "colab": {
          "base_uri": "https://localhost:8080/"
        },
        "id": "rh76qNPhTYwc",
        "outputId": "aa1f8f9e-c07f-48a8-ea52-f74c5e6c08e4"
      },
      "source": [
        "t_critical = st.t.ppf(alpha/2, degrees_of_freedom)\n",
        "t_critical"
      ],
      "execution_count": 37,
      "outputs": [
        {
          "output_type": "execute_result",
          "data": {
            "text/plain": [
              "-3.3553873313333966"
            ]
          },
          "metadata": {},
          "execution_count": 37
        }
      ]
    },
    {
      "cell_type": "code",
      "metadata": {
        "colab": {
          "base_uri": "https://localhost:8080/"
        },
        "id": "A2adTGIfTw6F",
        "outputId": "221e1360-629e-4fc9-f833-e8faf298f364"
      },
      "source": [
        "if (abs(t) > abs(t_critical)):\n",
        "    print(\"Null hypothesis cannot be rejected\")\n",
        "else:\n",
        "    print(\"Reject null hypothesis\")"
      ],
      "execution_count": 38,
      "outputs": [
        {
          "output_type": "stream",
          "name": "stdout",
          "text": [
            "Reject null hypothesis\n"
          ]
        }
      ]
    },
    {
      "cell_type": "markdown",
      "metadata": {
        "id": "NDPObhOl-x-O"
      },
      "source": [
        "5. Federal Prison Populations\n",
        "Nationally 60.2% of federal prisoners are serving time for drug offences. A warden\n",
        "feels that in his prison the percentage is even higher. He surveys 400 randomly\n",
        "selected inmates’ records and finds that 260 of the inmates are drug offenders. At\n",
        "α = 0.05, is he correct?"
      ]
    },
    {
      "cell_type": "code",
      "metadata": {
        "id": "FqoC1yXA-0aa"
      },
      "source": [
        "#H0 : μ = 60.2 , Ha :  μ > 60.2 standard deviation not given\n",
        "n = 400\n",
        "degrees_of_freedom = n-1\n",
        "xbar = 0.65\n",
        "mu = 0.602\n",
        "sigma = np.sqrt((mu*(1-mu))/100)\n",
        "alpha = 0.05"
      ],
      "execution_count": 45,
      "outputs": []
    },
    {
      "cell_type": "code",
      "metadata": {
        "id": "oxPgEnYcwYE9",
        "colab": {
          "base_uri": "https://localhost:8080/"
        },
        "outputId": "786be139-3572-4210-d631-d5cf0af95318"
      },
      "source": [
        "t = (xbar - mu)/(sigma / np.sqrt(n))\n",
        "t"
      ],
      "execution_count": 50,
      "outputs": [
        {
          "output_type": "execute_result",
          "data": {
            "text/plain": [
              "19.612432025156952"
            ]
          },
          "metadata": {},
          "execution_count": 50
        }
      ]
    },
    {
      "cell_type": "code",
      "metadata": {
        "colab": {
          "base_uri": "https://localhost:8080/"
        },
        "id": "iMjrss14hBt_",
        "outputId": "a4fc256f-4cb0-4935-c081-d27ae1be6f56"
      },
      "source": [
        "p_val = (1 - st.t.cdf(abs(t), degrees_of_freedom)) #\"1 - cdf\" because it's a right-tailed test\n",
        "p_val"
      ],
      "execution_count": 51,
      "outputs": [
        {
          "output_type": "execute_result",
          "data": {
            "text/plain": [
              "0.0"
            ]
          },
          "metadata": {},
          "execution_count": 51
        }
      ]
    },
    {
      "cell_type": "code",
      "metadata": {
        "id": "kJyWUAYewYFF",
        "colab": {
          "base_uri": "https://localhost:8080/"
        },
        "outputId": "94c6ef7b-e58d-49ba-82ad-abe87c529549"
      },
      "source": [
        "if (p_val > alpha):\n",
        "    print(\"Null hypothesis cannot be rejected\")\n",
        "else:\n",
        "    print(\"Reject null hypothesis\")"
      ],
      "execution_count": 52,
      "outputs": [
        {
          "output_type": "stream",
          "name": "stdout",
          "text": [
            "Reject null hypothesis\n"
          ]
        }
      ]
    },
    {
      "cell_type": "markdown",
      "metadata": {
        "id": "hjBBCyH7-0wr"
      },
      "source": [
        "6. MP3 Ownership\n",
        "An MP3 manufacturer claims that 65%,of teenagers 13 to 16 years old have their\n",
        "own MP3 players. A researcher wishes to test the claim and selects a,random\n",
        "sample of 80 teenagers. She finds that 57 have their own MP3 players. At α = 0.05,\n",
        "should the claim be,rejected? Use the P-value method."
      ]
    },
    {
      "cell_type": "code",
      "metadata": {
        "id": "vKa4UPns-30r"
      },
      "source": [
        "#H0 : μ = 57/80 * 100 , Ha :  μ != 65\n",
        "n = 80\n",
        "degrees_of_freedom = n-1\n",
        "xbar = 0.7125\n",
        "mu = 0.65\n",
        "sigma = np.sqrt((mu*(1-mu))/100)\n",
        "alpha = 0.01"
      ],
      "execution_count": 44,
      "outputs": []
    },
    {
      "cell_type": "code",
      "metadata": {
        "colab": {
          "base_uri": "https://localhost:8080/"
        },
        "id": "KfG3wtVLa4xL",
        "outputId": "9281beb5-9238-4256-eaca-feae96333116"
      },
      "source": [
        "t = (xbar - mu)/(sigma / np.sqrt(n))\n",
        "t"
      ],
      "execution_count": 41,
      "outputs": [
        {
          "output_type": "execute_result",
          "data": {
            "text/plain": [
              "3.3170659168901535"
            ]
          },
          "metadata": {},
          "execution_count": 41
        }
      ]
    },
    {
      "cell_type": "code",
      "metadata": {
        "colab": {
          "base_uri": "https://localhost:8080/"
        },
        "id": "20kVJgyQgly-",
        "outputId": "9ae8960a-5365-4480-d5c3-ddbc0dd108a1"
      },
      "source": [
        "p_val = (1 - st.t.cdf(abs(t), degrees_of_freedom)) #\"1 - cdf\" because it's a right-tailed test\n",
        "p_val"
      ],
      "execution_count": 42,
      "outputs": [
        {
          "output_type": "execute_result",
          "data": {
            "text/plain": [
              "0.005293108219495246"
            ]
          },
          "metadata": {},
          "execution_count": 42
        }
      ]
    },
    {
      "cell_type": "code",
      "metadata": {
        "colab": {
          "base_uri": "https://localhost:8080/"
        },
        "id": "-a1tM0MSgrS1",
        "outputId": "92a66c0a-879f-48bf-fb90-1c6d33190644"
      },
      "source": [
        "if (p_val > alpha):\n",
        "    print(\"Null hypothesis cannot be rejected\")\n",
        "else:\n",
        "    print(\"Reject null hypothesis\")"
      ],
      "execution_count": 43,
      "outputs": [
        {
          "output_type": "stream",
          "name": "stdout",
          "text": [
            "Reject null hypothesis\n"
          ]
        }
      ]
    },
    {
      "cell_type": "markdown",
      "metadata": {
        "id": "nXlhlfYe-4If"
      },
      "source": [
        "7. Men Aged 65 and Over in the Labour Force\n",
        "Of men,aged 65 and over 20.5% are still in the U.S. labour force.,A random sample\n",
        "of 120 retired male teachers indicated that 38 were still working. Use both a\n",
        "confidence,interval and a hypothesis test. Test the claim that the,proportion is\n",
        "greater than 20.5% at α = 0.10"
      ]
    },
    {
      "cell_type": "code",
      "metadata": {
        "id": "qJxmO06__RjX"
      },
      "source": [
        ""
      ],
      "execution_count": null,
      "outputs": []
    },
    {
      "cell_type": "markdown",
      "metadata": {
        "id": "P748odS__R0C"
      },
      "source": [
        "8. Movie Admission Prices\n",
        "The average movie admission price for a recent year was 7.18/The\n",
        "population,variance was 3.81. A random sample of 15 theatre admission prices\n",
        "had a mean of $8.02 with a standard,deviation of 2.08. At α = 0.05, is there\n",
        "sufficient evidence to conclude a difference from the population variance?\n",
        "Assume the variable is normally distributed.\n"
      ]
    },
    {
      "cell_type": "code",
      "metadata": {
        "id": "O9B54hnR_TT6"
      },
      "source": [
        "#H0 : sigma_square = 3.81 , Ha : sigma_square != 3.81\n",
        "n = 15\n",
        "degrees_of_freedom = n-1\n",
        "s_square = 2.08\n",
        "sigma_square = 3.81\n",
        "alpha = 0.05\n",
        "chi_square = ((n-1)*s_square) / (sigma_square)\n",
        "chi_square_critical =  st.chi2.ppf(alpha,degrees_of_freedom)*2\n",
        "if (chi_square > chi_square_critical):\n",
        "    print(\"Null hypothesis cannot be rejected\")\n",
        "else:\n",
        "    print(\"Reject null hypothesis\")"
      ],
      "execution_count": null,
      "outputs": []
    },
    {
      "cell_type": "markdown",
      "metadata": {
        "id": "ZNvPexun_umT"
      },
      "source": [
        "9. Fuel Consumption\n",
        "The standard deviation of fuel,consumption of a manufacturer’s sport utility\n",
        "vehicle,is hypothesized to be 3.3 miles per gallon. A random,sample of 18 vehicles\n",
        "has a standard deviation of,2.8 miles per gallon. At α = 0.10, is the claim,\n",
        "believable?\n"
      ]
    },
    {
      "cell_type": "code",
      "metadata": {
        "id": "ienBRPau_rG_"
      },
      "source": [
        "#H0 : sigma = 3.3, Ha : sigma != 3.3\n",
        "n = 18\n",
        "degrees_of_freedom = n-1\n",
        "s = 2.8\n",
        "sigma = 3.3\n",
        "alpha = 0.10\n",
        "chi_square = ((n-1)*(s**2))/(sigma**2)\n",
        "#chi_square\n",
        "p_val = st.chi2.cdf(chi_square,degrees_of_freedom)*2\n",
        "#p_val\n",
        "if (p_val > alpha):\n",
        "    print(\"Null hypothesis cannot be rejected\")\n",
        "else:\n",
        "    print(\"Reject null hypothesis\")"
      ],
      "execution_count": null,
      "outputs": []
    },
    {
      "cell_type": "markdown",
      "metadata": {
        "id": "n3ARmu-1_vpS"
      },
      "source": [
        "10. Tire Inflation\n",
        "To see whether people are keeping their car tires inflated to the correct level of 35\n",
        "pounds per square inch (psi), a tire company manager selects a random sample of\n",
        "36 tires and checks the pressure. The mean of the sample is 33.5 psi, and the\n",
        "population standard deviation is 3 psi. Are the tires properly inflated? Use α = 0.10.\n",
        "Find the 90% confidence interval of the mean. Do the results agree? Explain"
      ]
    },
    {
      "cell_type": "code",
      "metadata": {
        "id": "OwZOYkUR_yHv"
      },
      "source": [
        "#H0 : μ =35, Ha : μ !=35\n",
        "n = 36\n",
        "xbar = 33.5 #sample\n",
        "mu = 35 #population\n",
        "sigma = 3\n",
        "alpha = 0.10\n",
        "z_critical = abs(st.norm.ppf(alpha/2)) \n",
        "#z_critical\n",
        "z = (xbar-mu)/(sigma/np.sqrt(n))\n",
        "#z\n",
        "if (z<z_critical): \n",
        "    print(\"Null hypothesis cannot be rejected\")\n",
        "else:\n",
        "    print(\"Reject null hypothesis\")"
      ],
      "execution_count": null,
      "outputs": []
    },
    {
      "cell_type": "code",
      "metadata": {
        "id": "6vll3iLFj3Be"
      },
      "source": [
        "first = (st.norm.ppf(0.05))\n",
        "last = st.norm.ppf(0.95)\n",
        "print(\"90% interval = \", first, \" to\", last)"
      ],
      "execution_count": null,
      "outputs": []
    }
  ]
}