{
  "nbformat": 4,
  "nbformat_minor": 0,
  "metadata": {
    "kernelspec": {
      "display_name": "Python 3",
      "language": "python",
      "name": "python3"
    },
    "language_info": {
      "codemirror_mode": {
        "name": "ipython",
        "version": 3
      },
      "file_extension": ".py",
      "mimetype": "text/x-python",
      "name": "python",
      "nbconvert_exporter": "python",
      "pygments_lexer": "ipython3",
      "version": "3.6.9"
    },
    "colab": {
      "name": "Hypothesis Testing.ipynb",
      "provenance": []
    }
  },
  "cells": [
    {
      "cell_type": "markdown",
      "metadata": {
        "id": "CqoJTEpMwYEX"
      },
      "source": [
        "# Hypothesis Testing"
      ]
    },
    {
      "cell_type": "code",
      "metadata": {
        "id": "SRyalNhBwYEg"
      },
      "source": [
        "import numpy as np\n",
        "import scipy.stats as st"
      ],
      "execution_count": null,
      "outputs": []
    },
    {
      "cell_type": "markdown",
      "metadata": {
        "id": "BfLPEqeWwYEk"
      },
      "source": [
        "## Section 1 : z-Test"
      ]
    },
    {
      "cell_type": "markdown",
      "metadata": {
        "id": "36yUehGzwYEl"
      },
      "source": [
        "## Example 1.1 : Ages of Medical doctors\n",
        "A researcher believes that the mean age of medical doctors in a large hospital system is older than the average age of doctors in the United States, which is 46. Assume the population standard deviation is 4.2 years. A random sample of 30 doctors from the system is selected, and the mean age of the sample is 48.6. Test the claim at α = 0.05."
      ]
    },
    {
      "cell_type": "code",
      "metadata": {
        "id": "Aoe9SYQjwYEn"
      },
      "source": [
        "#H0 : μ , Ha :  μ \n",
        "n = \n",
        "xbar = \n",
        "mu = \n",
        "sigma = \n",
        "alpha = "
      ],
      "execution_count": null,
      "outputs": []
    },
    {
      "cell_type": "code",
      "metadata": {
        "id": "6BpB2xgLwYEp"
      },
      "source": [
        "z_critical = abs() #Absolute value taken as the it's a right-tailed test and the original value will be negative\n",
        "z_critical"
      ],
      "execution_count": null,
      "outputs": []
    },
    {
      "cell_type": "code",
      "metadata": {
        "id": "d1FOOo4gwYEs"
      },
      "source": [
        "z = \n",
        "z"
      ],
      "execution_count": null,
      "outputs": []
    },
    {
      "cell_type": "code",
      "metadata": {
        "id": "dKy0LaOqwYEu"
      },
      "source": [
        "if (): #Right-tailed test\n",
        "    print(\"Null hypothesis cannot be rejected\")\n",
        "else:\n",
        "    print(\"Reject null hypothesis\")"
      ],
      "execution_count": null,
      "outputs": []
    },
    {
      "cell_type": "markdown",
      "metadata": {
        "id": "dLrvzvqLwYEv"
      },
      "source": [
        "## Section 2 : z-Test using P-value"
      ]
    },
    {
      "cell_type": "markdown",
      "metadata": {
        "id": "oIgM_qrgwYEw"
      },
      "source": [
        "## Example 2. 1 : Wind Speed\n",
        "\n",
        "\n",
        "A researcher claims that the average wind speed in a certain city is 8 miles per hour. A sample of 32 days has an average wind speed of 8.2 miles per hour. The standard deviation of the population is 0.6 mile per hour. At α = 0.05, is there enough evidence to reject the claim? Use the P-value method."
      ]
    },
    {
      "cell_type": "code",
      "metadata": {
        "id": "oIjmOuuewYEx"
      },
      "source": [
        "#H0 : μ  and Ha : μ \n",
        "n = \n",
        "xbar = \n",
        "mu = \n",
        "sigma = \n",
        "alpha = "
      ],
      "execution_count": null,
      "outputs": []
    },
    {
      "cell_type": "code",
      "metadata": {
        "id": "ZcqzVHkMwYEz"
      },
      "source": [
        "z = \n",
        "z"
      ],
      "execution_count": null,
      "outputs": []
    },
    {
      "cell_type": "code",
      "metadata": {
        "id": "vpht1-vUwYE0"
      },
      "source": [
        "p_val = \n",
        "p_val"
      ],
      "execution_count": null,
      "outputs": []
    },
    {
      "cell_type": "code",
      "metadata": {
        "id": "a5xB5hGNwYE1"
      },
      "source": [
        "if ():\n",
        "    print(\"Null hypothesis cannot be rejected\")\n",
        "else:\n",
        "    print(\"Reject null hypothesis\")"
      ],
      "execution_count": null,
      "outputs": []
    },
    {
      "cell_type": "markdown",
      "metadata": {
        "id": "PKbTSgeUwYE2"
      },
      "source": [
        "## Section 3 : t-Test"
      ]
    },
    {
      "cell_type": "markdown",
      "metadata": {
        "id": "QHbI7nfxwYE3"
      },
      "source": [
        "## Example 3.1 : Hospital Infections\n",
        "A medical investigation claims that the average number of infections per week at a ­hospital in southwestern Pennsylvania is 16.3. A random sample of 10 weeks had a mean number of 17.7 infections. The sample standard deviation is 1.8. Is there enough evidence to reject the investigator’s claim at α = 0.05? Assume the variable is normally distributed."
      ]
    },
    {
      "cell_type": "code",
      "metadata": {
        "id": "tXt4hXfMwYE3"
      },
      "source": [
        "#H0 : μ , Ha : μ \n",
        "n = \n",
        "degrees_of_freedom = \n",
        "xbar = \n",
        "mu = \n",
        "s = \n",
        "alpha = "
      ],
      "execution_count": null,
      "outputs": []
    },
    {
      "cell_type": "code",
      "metadata": {
        "id": "TR61SnfpwYE5"
      },
      "source": [
        "t = \n",
        "t"
      ],
      "execution_count": null,
      "outputs": []
    },
    {
      "cell_type": "code",
      "metadata": {
        "id": "cghi5O50wYE6"
      },
      "source": [
        "t_critical = \n",
        "t_critical"
      ],
      "execution_count": null,
      "outputs": []
    },
    {
      "cell_type": "code",
      "metadata": {
        "id": "3yfDRP_cwYE7"
      },
      "source": [
        "if (): #Absolute value taken as the it's a two-tailed test and the original t_critical value might be negative\n",
        "    print(\"Null hypothesis cannot be rejected\")\n",
        "else:\n",
        "    print(\"Reject null hypothesis\")"
      ],
      "execution_count": null,
      "outputs": []
    },
    {
      "cell_type": "markdown",
      "metadata": {
        "id": "jAv5OBMMwYE8"
      },
      "source": [
        "## Section 4 : t-Test using P-value"
      ]
    },
    {
      "cell_type": "markdown",
      "metadata": {
        "id": "-n_nLH5GwYE8"
      },
      "source": [
        "## Example 4.1 : Jogger’s Oxygen Uptake\n",
        "A physician claims that joggers’ maximal volume oxygen uptake is greater than the average of all adults. A random sample of 15 joggers has a mean of 40.6 milliliters per kilogram (ml/kg) and a standard deviation of 6 ml/kg. If the average of all adults is 36.7 ml/kg, is there enough evidence to support the physician’s claim at α = 0.05? Assume the variable is normally distributed. "
      ]
    },
    {
      "cell_type": "code",
      "metadata": {
        "id": "ZaXBybM8wYE8"
      },
      "source": [
        "#H0 : μ , Ha : μ \n",
        "n = \n",
        "degrees_of_freedom = \n",
        "xbar = \n",
        "mu = \n",
        "s = \n",
        "alpha = "
      ],
      "execution_count": null,
      "outputs": []
    },
    {
      "cell_type": "code",
      "metadata": {
        "id": "oxPgEnYcwYE9"
      },
      "source": [
        "t = \n",
        "t"
      ],
      "execution_count": null,
      "outputs": []
    },
    {
      "cell_type": "code",
      "metadata": {
        "id": "YrVjQG0KwYE9"
      },
      "source": [
        "p_val = (1 - ) #\"1 - cdf\" because it's a right-tailed test\n",
        "p_val"
      ],
      "execution_count": null,
      "outputs": []
    },
    {
      "cell_type": "code",
      "metadata": {
        "id": "lohi1A1FwYE-"
      },
      "source": [
        "if ():\n",
        "    print(\"Null hypothesis cannot be rejected\")\n",
        "else:\n",
        "    print(\"Reject null hypothesis\")"
      ],
      "execution_count": null,
      "outputs": []
    },
    {
      "cell_type": "markdown",
      "metadata": {
        "id": "69DcbUCHwYE_"
      },
      "source": [
        "## Section 5 : Chi-Square Test"
      ]
    },
    {
      "cell_type": "markdown",
      "metadata": {
        "id": "x2jBSHBswYE_"
      },
      "source": [
        "## Example 5.1 : IQ Test\n",
        "A psychologist wishes to see if the variance in IQ of 10 of her counseling patients is less than the variance of the population, which is 225. The variance of the IQs of her 10 patients was 206. Test her claim at α = 0.05."
      ]
    },
    {
      "cell_type": "code",
      "metadata": {
        "id": "dT0XxmJRwYFA"
      },
      "source": [
        "#H0 : σ2 , Ha : σ2 \n",
        "n = \n",
        "degrees_of_freedom = \n",
        "s_square = \n",
        "sigma_square = \n",
        "alpha = "
      ],
      "execution_count": null,
      "outputs": []
    },
    {
      "cell_type": "code",
      "metadata": {
        "id": "9QyBTRk8wYFA"
      },
      "source": [
        "chi_square = \n",
        "chi_square"
      ],
      "execution_count": null,
      "outputs": []
    },
    {
      "cell_type": "code",
      "metadata": {
        "id": "nhgKAnpdwYFA"
      },
      "source": [
        "chi_square_critical =  #\"1-alpha\" as per Bluman's table\n",
        "chi_square_critical"
      ],
      "execution_count": null,
      "outputs": []
    },
    {
      "cell_type": "code",
      "metadata": {
        "id": "sXzs0xmIwYFB"
      },
      "source": [
        "if ():\n",
        "    print(\"Null hypothesis cannot be rejected\")\n",
        "else:\n",
        "    print(\"Reject null hypothesis\")"
      ],
      "execution_count": null,
      "outputs": []
    },
    {
      "cell_type": "markdown",
      "metadata": {
        "id": "1E4qTb9fwYFB"
      },
      "source": [
        "## Section 6 : Chi-Square Test using P-Value"
      ]
    },
    {
      "cell_type": "markdown",
      "metadata": {
        "id": "fzgqC-onwYFC"
      },
      "source": [
        "## Example 6.1 : Car Inspection Times\n",
        "A researcher knows from past studies that the standard deviation of the time it takes to inspect a car is 16.8 minutes. A random sample of 24 cars is selected and inspected. The standard deviation is 12.5 minutes. At α = 0.05, can it be concluded that the standard deviation has changed? Use the P-value method. Assume the variable is normally distributed. "
      ]
    },
    {
      "cell_type": "code",
      "metadata": {
        "id": "iMCnHAMGwYFD"
      },
      "source": [
        "#H0 : σ , Ha :  σ \n",
        "n = \n",
        "degrees_of_freedom = \n",
        "s = \n",
        "sigma = \n",
        "alpha = "
      ],
      "execution_count": null,
      "outputs": []
    },
    {
      "cell_type": "code",
      "metadata": {
        "id": "k8b0MvRKwYFD"
      },
      "source": [
        "chi_square = \n",
        "chi_square"
      ],
      "execution_count": null,
      "outputs": []
    },
    {
      "cell_type": "code",
      "metadata": {
        "id": "pVQHh1RTwYFF"
      },
      "source": [
        "p_val = \n",
        "p_val"
      ],
      "execution_count": null,
      "outputs": []
    },
    {
      "cell_type": "code",
      "metadata": {
        "id": "kJyWUAYewYFF"
      },
      "source": [
        "if ():\n",
        "    print(\"Null hypothesis cannot be rejected\")\n",
        "else:\n",
        "    print(\"Reject null hypothesis\")"
      ],
      "execution_count": null,
      "outputs": []
    }
  ]
}