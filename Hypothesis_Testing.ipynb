{
  "nbformat": 4,
  "nbformat_minor": 0,
  "metadata": {
    "kernelspec": {
      "display_name": "Python 3",
      "language": "python",
      "name": "python3"
    },
    "language_info": {
      "codemirror_mode": {
        "name": "ipython",
        "version": 3
      },
      "file_extension": ".py",
      "mimetype": "text/x-python",
      "name": "python",
      "nbconvert_exporter": "python",
      "pygments_lexer": "ipython3",
      "version": "3.6.9"
    },
    "colab": {
      "name": "Hypothesis Testing.ipynb",
      "provenance": [],
      "collapsed_sections": []
    }
  },
  "cells": [
    {
      "cell_type": "markdown",
      "metadata": {
        "id": "CqoJTEpMwYEX"
      },
      "source": [
        "# Hypothesis Testing"
      ]
    },
    {
      "cell_type": "code",
      "metadata": {
        "id": "SRyalNhBwYEg"
      },
      "source": [
        "import numpy as np\n",
        "import scipy.stats as st"
      ],
      "execution_count": 1,
      "outputs": []
    },
    {
      "cell_type": "markdown",
      "metadata": {
        "id": "BfLPEqeWwYEk"
      },
      "source": [
        "## Section 1 : z-Test"
      ]
    },
    {
      "cell_type": "markdown",
      "metadata": {
        "id": "36yUehGzwYEl"
      },
      "source": [
        "### Example 1.1 : Ages of Medical doctors\n",
        "A researcher believes that the mean age of medical doctors in a large hospital system is older than the average age of doctors in the United States, which is 46. Assume the population standard deviation is 4.2 years. A random sample of 30 doctors from the system is selected, and the mean age of the sample is 48.6. Test the claim at α = 0.05."
      ]
    },
    {
      "cell_type": "code",
      "metadata": {
        "id": "Aoe9SYQjwYEn"
      },
      "source": [
        "#H0 : μ = 46, Ha :  μ > 46\n",
        "n = 30\n",
        "xbar = 48.6\n",
        "mu = 46\n",
        "sigma = 4.2\n",
        "alpha = 0.05"
      ],
      "execution_count": 3,
      "outputs": []
    },
    {
      "cell_type": "code",
      "metadata": {
        "id": "6BpB2xgLwYEp",
        "colab": {
          "base_uri": "https://localhost:8080/"
        },
        "outputId": "7bcfee27-1bdb-4471-fa01-dccaa67a02de"
      },
      "source": [
        "z_critical = abs(st.norm.ppf(alpha)) #Absolute value taken as the it's a right-tailed test and the original value will be negative\n",
        "z_critical"
      ],
      "execution_count": 4,
      "outputs": [
        {
          "output_type": "execute_result",
          "data": {
            "text/plain": [
              "1.6448536269514729"
            ]
          },
          "metadata": {},
          "execution_count": 4
        }
      ]
    },
    {
      "cell_type": "code",
      "metadata": {
        "id": "d1FOOo4gwYEs",
        "colab": {
          "base_uri": "https://localhost:8080/"
        },
        "outputId": "0f518772-d5f7-48fb-8fa6-3aa20d78be7e"
      },
      "source": [
        "z = (xbar-mu)/(sigma/np.sqrt(n))\n",
        "z"
      ],
      "execution_count": 5,
      "outputs": [
        {
          "output_type": "execute_result",
          "data": {
            "text/plain": [
              "3.3906634512224585"
            ]
          },
          "metadata": {},
          "execution_count": 5
        }
      ]
    },
    {
      "cell_type": "code",
      "metadata": {
        "id": "dKy0LaOqwYEu",
        "colab": {
          "base_uri": "https://localhost:8080/"
        },
        "outputId": "1a495b79-21a8-45ee-ce1e-3466b4d387a8"
      },
      "source": [
        "if (z < z_critical): #Right-tailed test\n",
        "    print(\"Null hypothesis cannot be rejected\")\n",
        "else:\n",
        "    print(\"Reject null hypothesis\")"
      ],
      "execution_count": 6,
      "outputs": [
        {
          "output_type": "stream",
          "name": "stdout",
          "text": [
            "Reject null hypothesis\n"
          ]
        }
      ]
    },
    {
      "cell_type": "markdown",
      "metadata": {
        "id": "dLrvzvqLwYEv"
      },
      "source": [
        "## Section 2 : z-Test using P-value"
      ]
    },
    {
      "cell_type": "markdown",
      "metadata": {
        "id": "oIgM_qrgwYEw"
      },
      "source": [
        "### Example 2. 1 : Wind Speed\n",
        "\n",
        "\n",
        "A researcher claims that the average wind speed in a certain city is 8 miles per hour. A sample of 32 days has an average wind speed of 8.2 miles per hour. The standard deviation of the population is 0.6 mile per hour. At α = 0.05, is there enough evidence to reject the claim? Use the P-value method."
      ]
    },
    {
      "cell_type": "code",
      "metadata": {
        "id": "oIjmOuuewYEx"
      },
      "source": [
        "#H0 : μ = 8 and Ha : μ != 8\n",
        "n = 32\n",
        "xbar = 8.2\n",
        "mu = 8\n",
        "sigma = 0.6\n",
        "alpha = 0.05"
      ],
      "execution_count": 7,
      "outputs": []
    },
    {
      "cell_type": "code",
      "metadata": {
        "id": "ZcqzVHkMwYEz",
        "colab": {
          "base_uri": "https://localhost:8080/"
        },
        "outputId": "1e59be88-0a0e-44c2-8d33-cf641ae85c62"
      },
      "source": [
        "z = (xbar-mu)/(sigma/np.sqrt(n))\n",
        "z"
      ],
      "execution_count": 8,
      "outputs": [
        {
          "output_type": "execute_result",
          "data": {
            "text/plain": [
              "1.8856180831641203"
            ]
          },
          "metadata": {},
          "execution_count": 8
        }
      ]
    },
    {
      "cell_type": "code",
      "metadata": {
        "id": "vpht1-vUwYE0",
        "colab": {
          "base_uri": "https://localhost:8080/"
        },
        "outputId": "c1730ecc-0b13-45aa-df6a-1736a8ed568e"
      },
      "source": [
        "p_val = (1 - st.norm.cdf(abs(z))) * 2\n",
        "p_val"
      ],
      "execution_count": 9,
      "outputs": [
        {
          "output_type": "execute_result",
          "data": {
            "text/plain": [
              "0.0593464387919207"
            ]
          },
          "metadata": {},
          "execution_count": 9
        }
      ]
    },
    {
      "cell_type": "code",
      "metadata": {
        "id": "a5xB5hGNwYE1",
        "colab": {
          "base_uri": "https://localhost:8080/"
        },
        "outputId": "e3474634-37d3-4227-badb-d95e8987b98c"
      },
      "source": [
        "if (p_val > alpha):\n",
        "    print(\"Null hypothesis cannot be rejected\")\n",
        "else:\n",
        "    print(\"Reject null hypothesis\")"
      ],
      "execution_count": 10,
      "outputs": [
        {
          "output_type": "stream",
          "name": "stdout",
          "text": [
            "Null hypothesis cannot be rejected\n"
          ]
        }
      ]
    },
    {
      "cell_type": "markdown",
      "metadata": {
        "id": "PKbTSgeUwYE2"
      },
      "source": [
        "## Section 3 : t-Test"
      ]
    },
    {
      "cell_type": "markdown",
      "metadata": {
        "id": "QHbI7nfxwYE3"
      },
      "source": [
        "### Example 3.1 : Hospital Infections\n",
        "A medical investigation claims that the average number of infections per week at a ­hospital in southwestern Pennsylvania is 16.3. A random sample of 10 weeks had a mean number of 17.7 infections. The sample standard deviation is 1.8. Is there enough evidence to reject the investigator’s claim at α = 0.05? Assume the variable is normally distributed."
      ]
    },
    {
      "cell_type": "code",
      "metadata": {
        "id": "tXt4hXfMwYE3"
      },
      "source": [
        "#H0 : μ = 16.3, Ha : μ != 16.3\n",
        "n = 10\n",
        "degrees_of_freedom = n-1\n",
        "xbar = 17.7\n",
        "mu = 16.3\n",
        "s = 1.8\n",
        "alpha = 0.05"
      ],
      "execution_count": 11,
      "outputs": []
    },
    {
      "cell_type": "code",
      "metadata": {
        "id": "TR61SnfpwYE5",
        "colab": {
          "base_uri": "https://localhost:8080/"
        },
        "outputId": "517285ab-2127-45e9-b817-3fe03e37b506"
      },
      "source": [
        "t = (xbar - mu)/(s / np.sqrt(n))\n",
        "t"
      ],
      "execution_count": 12,
      "outputs": [
        {
          "output_type": "execute_result",
          "data": {
            "text/plain": [
              "2.4595492912420704"
            ]
          },
          "metadata": {},
          "execution_count": 12
        }
      ]
    },
    {
      "cell_type": "code",
      "metadata": {
        "id": "cghi5O50wYE6",
        "colab": {
          "base_uri": "https://localhost:8080/"
        },
        "outputId": "17727ba9-04f6-4a70-8d93-0063475ecb0c"
      },
      "source": [
        "t_critical = st.t.ppf(alpha/2, degrees_of_freedom)\n",
        "t_critical"
      ],
      "execution_count": 13,
      "outputs": [
        {
          "output_type": "execute_result",
          "data": {
            "text/plain": [
              "-2.262157162740992"
            ]
          },
          "metadata": {},
          "execution_count": 13
        }
      ]
    },
    {
      "cell_type": "code",
      "metadata": {
        "id": "3yfDRP_cwYE7",
        "colab": {
          "base_uri": "https://localhost:8080/"
        },
        "outputId": "e107dcde-d2d0-4c56-da6d-c729c5556f1f"
      },
      "source": [
        "if (abs(t) > abs(t_critical)): #Absolute value taken as the it's a two-tailed test and the original t_critical value might be negative\n",
        "    print(\"Null hypothesis cannot be rejected\")\n",
        "else:\n",
        "    print(\"Reject null hypothesis\")"
      ],
      "execution_count": 14,
      "outputs": [
        {
          "output_type": "stream",
          "name": "stdout",
          "text": [
            "Null hypothesis cannot be rejected\n"
          ]
        }
      ]
    },
    {
      "cell_type": "markdown",
      "metadata": {
        "id": "jAv5OBMMwYE8"
      },
      "source": [
        "## Section 4 : t-Test using P-value"
      ]
    },
    {
      "cell_type": "markdown",
      "metadata": {
        "id": "-n_nLH5GwYE8"
      },
      "source": [
        "### Example 4.1 : Jogger’s Oxygen Uptake\n",
        "A physician claims that joggers’ maximal volume oxygen uptake is greater than the average of all adults. A random sample of 15 joggers has a mean of 40.6 milliliters per kilogram (ml/kg) and a standard deviation of 6 ml/kg. If the average of all adults is 36.7 ml/kg, is there enough evidence to support the physician’s claim at α = 0.05? Assume the variable is normally distributed. "
      ]
    },
    {
      "cell_type": "code",
      "metadata": {
        "id": "ZaXBybM8wYE8"
      },
      "source": [
        "#H0 : μ = 36.7, Ha : μ > 36.7\n",
        "n = 15\n",
        "degrees_of_freedom = n-1\n",
        "xbar = 40.6\n",
        "mu = 36.7\n",
        "s = 6\n",
        "alpha = 0.05"
      ],
      "execution_count": 15,
      "outputs": []
    },
    {
      "cell_type": "code",
      "metadata": {
        "id": "oxPgEnYcwYE9",
        "colab": {
          "base_uri": "https://localhost:8080/"
        },
        "outputId": "b4ff47cc-f7fe-4739-a95e-b6107b56d71a"
      },
      "source": [
        "t = (xbar - mu)/(s / np.sqrt(n))\n",
        "t"
      ],
      "execution_count": 16,
      "outputs": [
        {
          "output_type": "execute_result",
          "data": {
            "text/plain": [
              "2.51743917503482"
            ]
          },
          "metadata": {},
          "execution_count": 16
        }
      ]
    },
    {
      "cell_type": "code",
      "metadata": {
        "id": "YrVjQG0KwYE9",
        "colab": {
          "base_uri": "https://localhost:8080/"
        },
        "outputId": "3c693d87-3ad1-44d5-d9e8-56db4090fc05"
      },
      "source": [
        "p_val = (1 - st.t.cdf(abs(t), degrees_of_freedom)) #\"1 - cdf\" because it's a right-tailed test\n",
        "p_val"
      ],
      "execution_count": 17,
      "outputs": [
        {
          "output_type": "execute_result",
          "data": {
            "text/plain": [
              "0.012311189053656801"
            ]
          },
          "metadata": {},
          "execution_count": 17
        }
      ]
    },
    {
      "cell_type": "code",
      "metadata": {
        "id": "lohi1A1FwYE-",
        "colab": {
          "base_uri": "https://localhost:8080/"
        },
        "outputId": "1427fd17-9aa3-4ccf-dc05-364d4ae6029e"
      },
      "source": [
        "if (p_val > alpha):\n",
        "    print(\"Null hypothesis cannot be rejected\")\n",
        "else:\n",
        "    print(\"Reject null hypothesis\")"
      ],
      "execution_count": 18,
      "outputs": [
        {
          "output_type": "stream",
          "name": "stdout",
          "text": [
            "Reject null hypothesis\n"
          ]
        }
      ]
    },
    {
      "cell_type": "markdown",
      "metadata": {
        "id": "69DcbUCHwYE_"
      },
      "source": [
        "## Section 5 : Chi-Square Test"
      ]
    },
    {
      "cell_type": "markdown",
      "metadata": {
        "id": "x2jBSHBswYE_"
      },
      "source": [
        "### Example 5.1 : IQ Test\n",
        "A psychologist wishes to see if the variance in IQ of 10 of her counseling patients is less than the variance of the population, which is 225. The variance of the IQs of her 10 patients was 206. Test her claim at α = 0.05."
      ]
    },
    {
      "cell_type": "code",
      "metadata": {
        "id": "dT0XxmJRwYFA"
      },
      "source": [
        "#H0 : σ2 = 225, Ha : σ2 < 225\n",
        "n = 10\n",
        "degrees_of_freedom = n-1\n",
        "s_square = 206\n",
        "sigma_square = 225 \n",
        "alpha = 0.05"
      ],
      "execution_count": 19,
      "outputs": []
    },
    {
      "cell_type": "code",
      "metadata": {
        "id": "9QyBTRk8wYFA",
        "colab": {
          "base_uri": "https://localhost:8080/"
        },
        "outputId": "ca9b491e-f0bb-44f9-8b56-d90c406c502b"
      },
      "source": [
        "chi_square = ((n-1)*s_square)/sigma_square\n",
        "chi_square"
      ],
      "execution_count": 20,
      "outputs": [
        {
          "output_type": "execute_result",
          "data": {
            "text/plain": [
              "8.24"
            ]
          },
          "metadata": {},
          "execution_count": 20
        }
      ]
    },
    {
      "cell_type": "code",
      "metadata": {
        "id": "nhgKAnpdwYFA",
        "colab": {
          "base_uri": "https://localhost:8080/"
        },
        "outputId": "e9610454-eb34-44c5-cf1e-89198824e902"
      },
      "source": [
        "chi_square_critical =  st.chi2.ppf(alpha, degrees_of_freedom) #\"1-alpha\" as per Bluman's table\n",
        "chi_square_critical"
      ],
      "execution_count": 21,
      "outputs": [
        {
          "output_type": "execute_result",
          "data": {
            "text/plain": [
              "3.325112843066815"
            ]
          },
          "metadata": {},
          "execution_count": 21
        }
      ]
    },
    {
      "cell_type": "code",
      "metadata": {
        "id": "sXzs0xmIwYFB",
        "colab": {
          "base_uri": "https://localhost:8080/"
        },
        "outputId": "04a9e004-2d5a-4bc5-8575-8adab40649d3"
      },
      "source": [
        "if (chi_square > chi_square_critical):\n",
        "    print(\"Null hypothesis cannot be rejected\")\n",
        "else:\n",
        "    print(\"Reject null hypothesis\")"
      ],
      "execution_count": 22,
      "outputs": [
        {
          "output_type": "stream",
          "name": "stdout",
          "text": [
            "Null hypothesis cannot be rejected\n"
          ]
        }
      ]
    },
    {
      "cell_type": "markdown",
      "metadata": {
        "id": "1E4qTb9fwYFB"
      },
      "source": [
        "## Section 6 : Chi-Square Test using P-Value"
      ]
    },
    {
      "cell_type": "markdown",
      "metadata": {
        "id": "fzgqC-onwYFC"
      },
      "source": [
        "### Example 6.1 : Car Inspection Times\n",
        "A researcher knows from past studies that the standard deviation of the time it takes to inspect a car is 16.8 minutes. A random sample of 24 cars is selected and inspected. The standard deviation is 12.5 minutes. At α = 0.05, can it be concluded that the standard deviation has changed? Use the P-value method. Assume the variable is normally distributed. "
      ]
    },
    {
      "cell_type": "code",
      "metadata": {
        "id": "iMCnHAMGwYFD"
      },
      "source": [
        "#H0 : σ = 16.8, Ha :  σ != 16.8\n",
        "n = 24\n",
        "degrees_of_freedom = n-1\n",
        "s = 12.5\n",
        "sigma = 16.7\n",
        "alpha = 0.05"
      ],
      "execution_count": 23,
      "outputs": []
    },
    {
      "cell_type": "code",
      "metadata": {
        "id": "k8b0MvRKwYFD",
        "colab": {
          "base_uri": "https://localhost:8080/"
        },
        "outputId": "dbc28a2c-fe73-48ac-9e79-40355968e287"
      },
      "source": [
        "chi_square = ((n-1)*(s**2))/sigma**2\n",
        "chi_square"
      ],
      "execution_count": 24,
      "outputs": [
        {
          "output_type": "execute_result",
          "data": {
            "text/plain": [
              "12.885904837032522"
            ]
          },
          "metadata": {},
          "execution_count": 24
        }
      ]
    },
    {
      "cell_type": "code",
      "metadata": {
        "id": "pVQHh1RTwYFF",
        "colab": {
          "base_uri": "https://localhost:8080/"
        },
        "outputId": "e89efb91-4d4b-47c6-f23f-a8a71f23a102"
      },
      "source": [
        "p_val = st.chi2.cdf(chi_square, degrees_of_freedom)*2\n",
        "p_val"
      ],
      "execution_count": 25,
      "outputs": [
        {
          "output_type": "execute_result",
          "data": {
            "text/plain": [
              "0.09115855673359283"
            ]
          },
          "metadata": {},
          "execution_count": 25
        }
      ]
    },
    {
      "cell_type": "code",
      "metadata": {
        "id": "kJyWUAYewYFF",
        "colab": {
          "base_uri": "https://localhost:8080/"
        },
        "outputId": "14bf45d6-3dd9-45bf-8950-8aa05a5ddbd7"
      },
      "source": [
        "if (p_val > alpha):\n",
        "    print(\"Null hypothesis cannot be rejected\")\n",
        "else:\n",
        "    print(\"Reject null hypothesis\")"
      ],
      "execution_count": 26,
      "outputs": [
        {
          "output_type": "stream",
          "name": "stdout",
          "text": [
            "Null hypothesis cannot be rejected\n"
          ]
        }
      ]
    }
  ]
}