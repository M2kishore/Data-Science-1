{
  "nbformat": 4,
  "nbformat_minor": 0,
  "metadata": {
    "colab": {
      "name": "CB.EN.U4CSE19127_QP_Descriptive_Statistics+EDA.ipynb",
      "provenance": [],
      "collapsed_sections": [],
      "include_colab_link": true
    },
    "kernelspec": {
      "name": "python3",
      "display_name": "Python 3"
    },
    "language_info": {
      "name": "python"
    }
  },
  "cells": [
    {
      "cell_type": "markdown",
      "metadata": {
        "id": "view-in-github",
        "colab_type": "text"
      },
      "source": [
        "<a href=\"https://colab.research.google.com/github/M2kishore/Data-Science-1/blob/main/CB_EN_U4CSE19127_QP_Descriptive_Statistics%2BEDA.ipynb\" target=\"_parent\"><img src=\"https://colab.research.google.com/assets/colab-badge.svg\" alt=\"Open In Colab\"/></a>"
      ]
    },
    {
      "cell_type": "markdown",
      "metadata": {
        "id": "JvWmEYvLe672"
      },
      "source": [
        "# Read and Preprocess"
      ]
    },
    {
      "cell_type": "markdown",
      "metadata": {
        "id": "sbVizKzNcO35"
      },
      "source": [
        "#Instruction: Import required libraries here"
      ]
    },
    {
      "cell_type": "code",
      "metadata": {
        "id": "bva5jvJ9ITlZ"
      },
      "source": [
        "# Import\n",
        "from matplotlib import pyplot as plt"
      ],
      "execution_count": 92,
      "outputs": []
    },
    {
      "cell_type": "code",
      "metadata": {
        "id": "CtxISvR7fqsR"
      },
      "source": [
        "import pandas as pd\n",
        "import numpy as np"
      ],
      "execution_count": 3,
      "outputs": []
    },
    {
      "cell_type": "markdown",
      "metadata": {
        "id": "wE6h5_Yfcbb5"
      },
      "source": [
        "#Instruction: From this [link](https://github.com/dayanandv/Data-Science/tree/main/Evaluation%201_Preprocessing), read the following files into dataframes:\n",
        "\n",
        "    \n",
        "\n",
        "1.   LokSabhaMPs.xls to the dataframe `mps`\n",
        "2.   Each sheet (there are six in total) of the file Seventeenth Lok Sabha_Attendance.xlsx to a list of DataFrames named `attendance`; i.e. each element of the list will be a DataFrame corresponding to a sheet in the file which represents one session.\n",
        "\n",
        "Preprocess, so that:\n",
        "\n",
        "1. The dataframe header map to the row number where column names are listed.\n",
        "2. Extra space at the end of Member Name are handled.\n",
        "\n",
        "Description of the attendance dataset from http://loksabhaph.nic.in\n",
        "\n",
        "S= The Member Signed the Register\n",
        "\n",
        "S*= The Member signed through Mobile Attendance Application\n",
        "\n",
        "S#= The Member signed through both the Register & Mobile Attendance Application\n",
        "\n",
        "NS= The Member did not sign the register. (A Member might have attended the sitting of the House on a particular day but did not sign or forgot to sign the Register for that day )\n",
        "\n",
        "NS@= Member was present but forgot to sign the Attendance Register\n",
        "\n",
        "NR= Not Required. (Hon'ble Speaker, Deputy Speaker, Prime Minister and Minister usually do not sign the Members' Attendance Register)\n"
      ]
    },
    {
      "cell_type": "code",
      "metadata": {
        "id": "57ANXZqhcXSb"
      },
      "source": [
        "mps = pd.read_excel('https://github.com/dayanandv/Data-Science/blob/main/Evaluation%201_Preprocessing/LokSabha_MPs.xls?raw=true')"
      ],
      "execution_count": 44,
      "outputs": []
    },
    {
      "cell_type": "code",
      "metadata": {
        "id": "bhX327dCdyWD",
        "colab": {
          "base_uri": "https://localhost:8080/"
        },
        "outputId": "27a48151-e263-405a-e900-8931ddb92741"
      },
      "source": [
        "attendance = pd.read_excel('https://github.com/dayanandv/Data-Science/blob/main/Evaluation%201_Preprocessing/Seventeenth%20Lok%20Sabha_Attendance.xlsx?raw=true', sheet_name = None)\n",
        "print(mps)\n",
        "mps = mps.drop(0)\n",
        "mps.columns = mps.iloc[0]\n",
        "mps = mps.reset_index(drop=True)\n",
        "mps = mps.drop(0)\n",
        "mps = mps.reset_index(drop=True)"
      ],
      "execution_count": 77,
      "outputs": [
        {
          "output_type": "stream",
          "name": "stdout",
          "text": [
            "1   Shri Narayana Swamy Abbaiah  ...   Chitradurga (SC)(Karnataka)\n",
            "0           Dr. Farooq Abdullah  ...  Srinagar (Jammu and Kashmir)\n",
            "1    Shri Deepak (Dev) Adhikari  ...          Ghatal (West Bengal)\n",
            "2        Shri Dibyendu Adhikari  ...          Tamluk (West Bengal)\n",
            "3     Shri Sisir Kumar Adhikari  ...          Kanthi (West Bengal)\n",
            "4              Adv. A. M. Ariff  ...            Alappuzha (Kerala)\n",
            "..                          ...  ...                           ...\n",
            "533  Dr. Krishnapal Singh Yadav  ...         Guna (Madhya Pradesh)\n",
            "534    Shri Mulayam Singh Yadav  ...      Mainpuri (Uttar Pradesh)\n",
            "535       Shri Ram Kripal Yadav  ...           Pataliputra (Bihar)\n",
            "536      Shri Shyam Singh Yadav  ...       Jaunpur (Uttar Pradesh)\n",
            "537       Shri Tokheho Yepthomi  ...           Nagaland (Nagaland)\n",
            "\n",
            "[538 rows x 3 columns]\n"
          ]
        }
      ]
    },
    {
      "cell_type": "markdown",
      "metadata": {
        "id": "7OhvfFldcIKg"
      },
      "source": [
        "# Q1. Edit the function q1 such that it returns a tuple containing the the number of rows of `mps` and number of elements in `attendance` respectively."
      ]
    },
    {
      "cell_type": "code",
      "metadata": {
        "id": "gVT3UoGicKzh",
        "colab": {
          "base_uri": "https://localhost:8080/"
        },
        "outputId": "c78019b5-fdd1-4c6c-9464-cf0ae6d975d3"
      },
      "source": [
        "def q1():\n",
        "  # Write your code here\n",
        "  nor_attendance = 0\n",
        "  nor_mps = mps.shape[0]\n",
        "  for i in range(1,7):\n",
        "    x = str(i)\n",
        "    nor_attendance = nor_attendance+attendance[x].shape[0]\n",
        "  return (nor_mps, nor_attendance)\n",
        "\n",
        "q1()"
      ],
      "execution_count": 58,
      "outputs": [
        {
          "output_type": "execute_result",
          "data": {
            "text/plain": [
              "(538, 2909)"
            ]
          },
          "metadata": {},
          "execution_count": 58
        }
      ]
    },
    {
      "cell_type": "markdown",
      "metadata": {
        "id": "Ftnn61kJ0rKV"
      },
      "source": [
        "#Instruction: Have the attendance percentages of each session (sheet) calculated and added to its respective dataframe as a column named `Attendance Percentage`."
      ]
    },
    {
      "cell_type": "code",
      "metadata": {
        "id": "N1RK_enL1NMZ"
      },
      "source": [
        "# Write your code here\n",
        "for i in range(1,7):\n",
        "    x = str(i)\n",
        "    attendance[x] = pd.DataFrame(attendance[x])\n",
        "for i in range(1,7):\n",
        "  x = str(i)\n",
        "  attendance[x]['Attendance Percentage'] = (attendance[x]['No. of days Members signed the Register']/(attendance[x]['No. of days Members signed the Register']+attendance[x]['No. of days Members not signed the Register'])*100)"
      ],
      "execution_count": 78,
      "outputs": []
    },
    {
      "cell_type": "markdown",
      "metadata": {
        "id": "pGYny8A-iOVQ"
      },
      "source": [
        "#Q2. Edit the function q2 such that it returns the percentage of MPs among those who attended session 1 (round to two decimal places) who had 100% attendance."
      ]
    },
    {
      "cell_type": "code",
      "metadata": {
        "id": "p9d5M642hUiY",
        "colab": {
          "base_uri": "https://localhost:8080/"
        },
        "outputId": "cb21a9ad-19ce-4cb8-fb20-7fd3c1084cdf"
      },
      "source": [
        "def q2():\n",
        "  # Write your code here\n",
        "  percentage = 0\n",
        "  totalcount = len(attendance['1'].index)\n",
        "  count = 0\n",
        "  df = pd.DataFrame(attendance['1'])\n",
        "  for i in range(totalcount):\n",
        "    if df.loc[i,'Attendance Percentage'] == 100:\n",
        "      count = count + 1;\n",
        "  percentage = (count/totalcount) * 100\n",
        "  return round(percentage,2)\n",
        "\n",
        "q2()"
      ],
      "execution_count": 84,
      "outputs": [
        {
          "output_type": "execute_result",
          "data": {
            "text/plain": [
              "20.23"
            ]
          },
          "metadata": {},
          "execution_count": 84
        }
      ]
    },
    {
      "cell_type": "markdown",
      "metadata": {
        "id": "d3tDqa1iwMKz"
      },
      "source": [
        "#Q3. Edit the function q3 such that it returns the skew value (round to two decimal places) of the Attendance Percentages of MPs in session 2 (sheet 2).  "
      ]
    },
    {
      "cell_type": "code",
      "metadata": {
        "id": "UoNrGeJswz1W",
        "colab": {
          "base_uri": "https://localhost:8080/"
        },
        "outputId": "44b461d4-7a6e-4f20-b0a1-45771fcc5bb1"
      },
      "source": [
        "def q3():\n",
        "  # Write your code here\n",
        "  df = pd.DataFrame(attendance['2'])\n",
        "  skew = df.skew(axis = 0, skipna = True)[3]\n",
        "  return round(skew,2)\n",
        "\n",
        "q3()"
      ],
      "execution_count": 90,
      "outputs": [
        {
          "output_type": "execute_result",
          "data": {
            "text/plain": [
              "-1.64"
            ]
          },
          "metadata": {},
          "execution_count": 90
        }
      ]
    },
    {
      "cell_type": "markdown",
      "metadata": {
        "id": "1TBy6RJ6yKQx"
      },
      "source": [
        "#Q4. Edit the function q4 such that it returns the kurtosis value of the number of days that the MPs have not signed in the register during session 3 (sheet 3).  "
      ]
    },
    {
      "cell_type": "code",
      "metadata": {
        "id": "Y-jVeoh1ySBg",
        "colab": {
          "base_uri": "https://localhost:8080/"
        },
        "outputId": "eecde964-f683-45ce-b51b-cd939eb4eafe"
      },
      "source": [
        "def q4():\n",
        "  # Write your code here\n",
        "  df3 = pd.DataFrame(attendance['3'])\n",
        "  kurt = df3['No. of days Members not signed the Register'].kurtosis()\n",
        "  return round(kurt,2)\n",
        "\n",
        "q4()"
      ],
      "execution_count": 91,
      "outputs": [
        {
          "output_type": "execute_result",
          "data": {
            "text/plain": [
              "1.56"
            ]
          },
          "metadata": {},
          "execution_count": 91
        }
      ]
    },
    {
      "cell_type": "markdown",
      "metadata": {
        "id": "eLeL-slM0Zsx"
      },
      "source": [
        "#Instruction: Plot a histogram of the Attendance Percentage' column of session 4 (sheet 4) and use it to answer the following question."
      ]
    },
    {
      "cell_type": "code",
      "metadata": {
        "id": "7t6qE3AY4U8L",
        "colab": {
          "base_uri": "https://localhost:8080/",
          "height": 317
        },
        "outputId": "b3c098f9-51db-45b5-91ea-b76262a809aa"
      },
      "source": [
        "# Write your code here\n",
        "df4 = pd.DataFrame(attendance['4'])\n",
        "plt.hist(df4['Attendance Percentage'])\n"
      ],
      "execution_count": 96,
      "outputs": [
        {
          "output_type": "execute_result",
          "data": {
            "text/plain": [
              "(array([  8.,   5.,  10.,  11.,  13.,  12.,  25.,  27.,  65., 250.]),\n",
              " array([ 10.,  19.,  28.,  37.,  46.,  55.,  64.,  73.,  82.,  91., 100.]),\n",
              " <a list of 10 Patch objects>)"
            ]
          },
          "metadata": {},
          "execution_count": 96
        },
        {
          "output_type": "display_data",
          "data": {
            "image/png": "[encoded data removed]",
            "text/plain": [
              "<Figure size 432x288 with 1 Axes>"
            ]
          },
          "metadata": {
            "needs_background": "light"
          }
        }
      ]
    },
    {
      "cell_type": "markdown",
      "metadata": {
        "id": "QoFIx4Al2Fgr"
      },
      "source": [
        "#Q5. Edit the function q5 such that it returns the boolean value corresponding to whether the histogram of the `Attendance Percentage` column of any arbitrary session shows a heavily skewed distribution (True/False). The session number is  to be passed onto the function as an integer argument.\n",
        "\n",
        "For this example, assume that we call a distribution as heavily skewed if it's absolute skew value is **more than 1.7**."
      ]
    },
    {
      "cell_type": "code",
      "metadata": {
        "id": "RzAId78AzTPb",
        "colab": {
          "base_uri": "https://localhost:8080/"
        },
        "outputId": "040861b4-0d8f-4bf5-927c-da8b630910cc"
      },
      "source": [
        "def q5(session_number):\n",
        "  # Write your code here\n",
        "  df = pd.DataFrame(attendance[str(session_number)])\n",
        "  answer = False\n",
        "  if(df['Attendance Percentage'].kurtosis() > 0.7):\n",
        "    answer = True\n",
        "  return answer\n",
        "\n",
        "q5(5)"
      ],
      "execution_count": 100,
      "outputs": [
        {
          "output_type": "execute_result",
          "data": {
            "text/plain": [
              "False"
            ]
          },
          "metadata": {},
          "execution_count": 100
        }
      ]
    },
    {
      "cell_type": "markdown",
      "metadata": {
        "id": "VnMSEtYW60dC"
      },
      "source": [
        "#Q6. Edit the function q6 such that it goes through the mean values of the attendance percentages of each session and returns a list named `outliers` with the number(s) of the session(s) which is/are outlier(s). If there are no outliers return an empty list."
      ]
    },
    {
      "cell_type": "code",
      "metadata": {
        "id": "OV_97iCj4PJq",
        "colab": {
          "base_uri": "https://localhost:8080/"
        },
        "outputId": "b7717a9d-2f6d-45ab-cfe0-6028396dc071"
      },
      "source": [
        "def q6():\n",
        "  #Write your code here\n",
        "  outliers = []\n",
        "  for i in range(1,7):\n",
        "    df = pd.DataFrame(attendance[str(i)])\n",
        "    mean = df['Attendance Percentage'].mean()\n",
        "    sd = 3*df['Attendance Percentage'].std()\n",
        "    for j in range(len(df.index)):\n",
        "      if(df.loc[j,'Attendance Percentage'] > mean+(sd)):\n",
        "        if i not in outliers:\n",
        "          outliers.append(i)\n",
        "        outliers.append(i)\n",
        "      if(df.loc[j,'Attendance Percentage'] < mean-(sd)):\n",
        "        if i not in outliers:\n",
        "          outliers.append(i)\n",
        "\n",
        "  return outliers\n",
        "\n",
        "q6()"
      ],
      "execution_count": 110,
      "outputs": [
        {
          "output_type": "execute_result",
          "data": {
            "text/plain": [
              "[1, 2, 3, 4, 6]"
            ]
          },
          "metadata": {},
          "execution_count": 110
        }
      ]
    },
    {
      "cell_type": "markdown",
      "metadata": {
        "id": "RADBblUEG9vl"
      },
      "source": [
        "#Q7. Edit the function q7 such that it returns a list named `dnos` having the 'Division No' (in the ascending order) of those MPs who are the most consistent in their attendance, as per the conditions listed below.\n",
        "\n",
        "* Consider only those MPs who have attended at least two sessions. \n",
        "* For this example, assume that consistency can be calculated via the standard \n",
        "deviation of their attendance percentages across sessions. The lesser the standard deviation, better consistant the attendace is."
      ]
    },
    {
      "cell_type": "code",
      "metadata": {
        "id": "mkHRkK3XIR5M"
      },
      "source": [
        "def q7():\n",
        "  # Write your code here\n",
        "  dnos = []\n",
        "  for in range()\n",
        "  return dnos\n",
        "\n",
        "q7()"
      ],
      "execution_count": null,
      "outputs": []
    }
  ]
}